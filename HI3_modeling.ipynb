{
 "cells": [
  {
   "cell_type": "markdown",
   "metadata": {},
   "source": [
    "# Hand-in 3, Part 2: Data Modeling\n",
    "\n",
    "In this part you will take the csv file \"reduced_field_data.csv\" from Part 1, and use it to estimate the line criticality indices."
   ]
  },
  {
   "cell_type": "code",
   "execution_count": null,
   "metadata": {},
   "outputs": [],
   "source": [
    "import pandas as pd\n",
    "import numpy as np\n",
    "import matplotlib.pyplot as plt\n",
    "\n",
    "%matplotlib inline"
   ]
  },
  {
   "cell_type": "markdown",
   "metadata": {},
   "source": [
    "## Score function\n",
    "\n",
    "Below is a scoring function we have written for you. The output of this function is a score of how well your procedure is doing. Higher scores are worse!\n",
    "\n",
    "As you can see, it penalizes heavily when you don't predict accurately values when they are being overloaded, i.e. false negatives.\n"
   ]
  },
  {
   "cell_type": "code",
   "execution_count": null,
   "metadata": {},
   "outputs": [],
   "source": [
    "def score_func(y_est, y_real):\n",
    "    \"\"\"\n",
    "        This function takes your estimates y_est and\n",
    "        scores them against the real data y_real.\n",
    "        You should use this function to show how good your estimation method is.\n",
    "    \"\"\"\n",
    "    # Square deviation\n",
    "    sqr_err = np.sum(((y_est - y_real)**2).sum())\n",
    "    # Penalty for not estimating a critical value above 0.95 when it occurs.\n",
    "    false_negative = np.sum(np.where(np.logical_and(y_est < 0.95, y_real > 0.95), 10*np.sqrt(np.abs((y_est - y_real))), 0).sum())\n",
    "    return sqr_err + false_negative"
   ]
  },
  {
   "cell_type": "markdown",
   "metadata": {},
   "source": [
    "## Load and clean data\n",
    "\n",
    "Load your data from the previous exercise as well as the criticality data.\n"
   ]
  },
  {
   "cell_type": "code",
   "execution_count": null,
   "metadata": {},
   "outputs": [],
   "source": [
    "# Data is loaded here\n",
    "field_data = pd.read_csv(\"reduced_field_data.csv\", index_col=0)\n",
    "crit_data = pd.read_csv(\"flow_criticality_data.csv\", index_col=0)"
   ]
  },
  {
   "cell_type": "markdown",
   "metadata": {},
   "source": [
    "## Linear regression\n",
    "\n",
    "We have implemented a simple linear regression to apply to your data.\n",
    "You should use this as a benchmark for your neural network below.\n"
   ]
  },
  {
   "cell_type": "code",
   "execution_count": null,
   "metadata": {
    "scrolled": false
   },
   "outputs": [],
   "source": [
    "# The code below implements a linear regression on your data and compares predicted and true values.\n",
    "# On the plots there is a red square indicating the areas corresponding to false negatives.\n",
    "from sklearn.linear_model import LinearRegression\n",
    "lm = LinearRegression()\n",
    "lm.fit(field_data,crit_data)\n",
    "\n",
    "y_pred = lm.predict(field_data)\n",
    "for index in range(10):\n",
    "    plt.figure()\n",
    "    plt.fill_between([0.95, crit_data.iloc[:,index].max()], [0.95, 0.95], color='r', alpha=0.2)\n",
    "    plt.plot(crit_data.iloc[:,index],y_pred[:,index],'.')\n",
    "    error = score_func(y_pred[:,index],crit_data.iloc[:,index])\n",
    "    plt.title('{0}, Error: {1:.04f}'.format(crit_data.columns[index], error))\n",
    "    plt.xlabel('True Value')\n",
    "\n",
    "plt.ylabel('Predicted Value')\n",
    "print('Overall error: {0:.04f}'.format(score_func(y_pred, crit_data)))\n"
   ]
  },
  {
   "cell_type": "markdown",
   "metadata": {},
   "source": [
    "**Q#6** Would you recommend using Linear Regression for estimating line criticality indices? Why/why not?"
   ]
  },
  {
   "cell_type": "markdown",
   "metadata": {},
   "source": [
    "# Neural Network\n",
    "\n",
    "You should now produce a neural network that can estimate criticality indices.\n",
    "Split your data into a training and test set, build your neural network below, and use the score_func defined above to estimate your model quality."
   ]
  },
  {
   "cell_type": "markdown",
   "metadata": {},
   "source": [
    "**Q#7** Explain why you chose the layers, nodes and activation functions you did. (No wrong answers, we want to know your thought process!) What is the best score you can get with a single layer?"
   ]
  },
  {
   "cell_type": "code",
   "execution_count": null,
   "metadata": {
    "collapsed": true
   },
   "outputs": [],
   "source": [
    "# Split data into training and test"
   ]
  },
  {
   "cell_type": "code",
   "execution_count": null,
   "metadata": {
    "collapsed": true
   },
   "outputs": [],
   "source": [
    "#INSERT Neural Network Code here for a linear regression."
   ]
  },
  {
   "cell_type": "markdown",
   "metadata": {},
   "source": [
    "# K-fold cross validation"
   ]
  },
  {
   "cell_type": "markdown",
   "metadata": {},
   "source": [
    "To ensure that your neural network actually works when presented with new data, take the neural network you defined above, and perform a k-fold cross validation on it."
   ]
  },
  {
   "cell_type": "markdown",
   "metadata": {},
   "source": [
    "**Q#8** Using a test window size of one tenth of your data (ten-fold cross validation), plot a histogram of the output of score_func for the validation. Tweak your neural network to achieve the lowest mean score.H"
   ]
  },
  {
   "cell_type": "code",
   "execution_count": null,
   "metadata": {
    "collapsed": true
   },
   "outputs": [],
   "source": [
    "# Your k-fold code goes here."
   ]
  },
  {
   "cell_type": "markdown",
   "metadata": {},
   "source": [
    "**Q#9** Are you satisfied with the quality of the final estimator? What would be your recommendation for your boss on this issue?"
   ]
  },
  {
   "cell_type": "markdown",
   "metadata": {},
   "source": [
    "# Extra task for 3-person groups\n",
    "\n",
    "**Q#10** Repeat the process, once reducing to 15 sensors, and once reducing to 25 sensors. The costs to keep these sensors running is directly proportional to the number of sensors used. Does changing the number of sensors used change your conclusion in Q#9?"
   ]
  },
  {
   "cell_type": "code",
   "execution_count": null,
   "metadata": {
    "collapsed": true
   },
   "outputs": [],
   "source": []
  }
 ],
 "metadata": {
  "kernelspec": {
   "display_name": "Python 3",
   "language": "python",
   "name": "python3"
  },
  "language_info": {
   "codemirror_mode": {
    "name": "ipython",
    "version": 3
   },
   "file_extension": ".py",
   "mimetype": "text/x-python",
   "name": "python",
   "nbconvert_exporter": "python",
   "pygments_lexer": "ipython3",
   "version": "3.6.1"
  }
 },
 "nbformat": 4,
 "nbformat_minor": 2
}
